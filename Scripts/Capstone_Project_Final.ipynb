{
 "cells": [
  {
   "cell_type": "markdown",
   "metadata": {},
   "source": [
    "<h1>Description of the problem and a discussion of the background</h1>"
   ]
  },
  {
   "cell_type": "markdown",
   "metadata": {},
   "source": [
    "In the last course we looked at the neighborhoods and boroughs of Toronto. I decided to pick Canada only and choose the city Vancouver for which the crime data is available on Kaggle from 2003-2019. The project would pick neighborhoods and rank them according to their crimes. These neighborhoods would be further broken down into the types of crime which are msot likely to happen helping police to choose their method for surgical action.\n",
    "\n",
    "Then the neighborhoods would be clustered to help police deploy patrolling vehicles. Each such cluster would then be separately analyzed to help police decentralize their tasks.\n",
    "\n",
    "This can also serve to be helpful for the new etrpreneurs seeking to establish business in the region as to which cluster would be most preferred and which neighborhood in those particular clusters."
   ]
  },
  {
   "cell_type": "markdown",
   "metadata": {},
   "source": [
    "<h1>Description of the data and how it will be used to solve the problem</h1>"
   ]
  },
  {
   "cell_type": "markdown",
   "metadata": {},
   "source": [
    "Factors influencing our decisions are:\n",
    "    ranking neighborhoods based on the crimes\n",
    "    finding the most common crimes\n",
    "    choosing the right action for police deployment\n",
    "\n",
    "Following data sources will be needed to extract/generate the required information:\n",
    "\n",
    "- [**Part 1**: Using a real world data set from Kaggle containing the Vancouver Crimes from 2003 to 2019](#part1):  A dataset consisting of the crime statistics of each Neighbourhoof in Vancouver along with type of crime, recorded year, month and hour.\n",
    "\n",
    "- [**Part 2**: Gathering additional information of the list of officially categorized boroughs in Vancouver from Wikipedia.](#part2): Borough information will be used to map the existing data where each neighbourhood can be assigned with the right borough.\n",
    "\n",
    "- [**Part 3**: Creating a new consolidated dataset of the Neighborhoods, along with their boroughs, crime data and the respective Neighbourhood's co-ordinates.](#part3): This data will be fetched using OpenCage Geocoder to find the safest borough and explore the neighbourhood by plotting it on maps using Folium and perform exploratory data analysis.\n",
    "\n",
    "- [**Part 4**: Creating a new consolidated dataset of the Neighborhoods, boroughs, and the most common crimes and the respective Neighbourhood along with co-ordinates.](#part4): To explore the neighbourhood crimes and to apply machine learning algorithm to cluster the neighbourhoods and present the findings by plotting it on maps using Folium."
   ]
  },
  {
   "cell_type": "markdown",
   "metadata": {},
   "source": [
    "### **Part 1:** Using a real world data set from Kaggle containing the Vancouver Crimes from 2003 to 2019<a name=\"part1\"></a>\n",
    "\n",
    "\n",
    "####  Vancouver Crime Report \n",
    "\n",
    "Properties of the Crime Report\n",
    "\n",
    "*   TYPE - Crime type\n",
    "*   YEAR - Recorded year\n",
    "*   MONTH - Recorded month\n",
    "*   DAY - Recorded day\n",
    "*   HOUR - Recorded hour\n",
    "*   MINUTE - Recorded minute\n",
    "*   HUNDRED_BLOCK - Recorded block\n",
    "*   NEIGHBOURHOOD - Recorded neighborhood\n",
    "*   X - GPS longtitude\n",
    "*   Y - GPS latitude\n",
    "\n",
    "Data set URL: https://www.kaggle.com/agilesifaka/vancouver-crime-report/version/"
   ]
  },
  {
   "cell_type": "markdown",
   "metadata": {},
   "source": [
    "### **Part 2:** Gathering additional information about the Neighborhood from Wikipedia<a name=\"part2\"></a>\n",
    "\n",
    "As part of data set Borough which the neighborhood was part of was not categorized, so we will create a dictionary of Neighborhood and based on data in the following [Wikipedia page](https://en.wikipedia.org/wiki/List_of_neighbourhoods_in_Vancouver)."
   ]
  },
  {
   "cell_type": "markdown",
   "metadata": {},
   "source": [
    "### **Part 3**: Creating a new consolidated dataset of the Neighborhoods, along with their boroughs, crime data and the respective Neighbourhood's co-ordinates.<a name=\"part3\"></a>: \n",
    "\n",
    "This data will be fetched using OpenCage Geocoder to find the safest borough and explore the neighbourhood by plotting it on maps using Folium and perform exploratory data analysis."
   ]
  },
  {
   "cell_type": "markdown",
   "metadata": {},
   "source": [
    "### **Part 4**: Creating a new consolidated dataset of the Neighborhoods, boroughs, and the most common venues and the respective Neighbourhood along with co-ordinates.<a name=\"part4\"></a>: \n",
    "Apply machine learning algorithm to cluster the neighbourhoods and present the findings by plotting it on maps using Folium"
   ]
  },
  {
   "cell_type": "markdown",
   "metadata": {},
   "source": [
    "## Methodology<a name=\"methodology\"></a>\n",
    "\n",
    "Categorized the methodologysection into two parts:\n",
    "\n",
    "- <u>Exploratory Data Analysis</u>: Visualise the crime repots in different Vancouver boroughs to idenity the safest borough and normalise the neighborhoods of that borough. We will Use the resulting data and find 10 most common venues in each neighborhood.:\n",
    "      - Pivoting the table to better understand the data by crimes per borough\n",
    "      - Merging the Pivoted Column with other columns\n",
    "      - Above steps are repeated for neighborhoods (Then neighborhood is selected as the basic unit for police deployment)\n",
    "\n",
    "Expolring the data by Visualizing:\n",
    "    Sorting the data by crimes per neighborhood\n",
    "    Five Neighborhoods with highest crime are shortlisted\n",
    "    Similarly neighborhoods with highest crime are shortlisted\n",
    "    "
   ]
  },
  {
   "cell_type": "markdown",
   "metadata": {},
   "source": [
    "Based on exploratory data analysis it is clear that South Vancouver has the lowest crimes. Police deployment can be optimized\n",
    "here by channelizing it to other areas, however, since South Vancouver has very little number of neighborhoods, police presence\n",
    "can't be ignored to a certain extent"
   ]
  },
  {
   "cell_type": "code",
   "execution_count": null,
   "metadata": {},
   "outputs": [],
   "source": []
  },
  {
   "cell_type": "markdown",
   "metadata": {},
   "source": [
    "<u>Modelling</u>: To help stakeholders choose the right neighborhood within a borough we will be clustering similar neighborhoods using K - means clustering which is a form of unsupervised machine learning algorithm that clusters data based on predefined cluster size. We will use K-Means clustering to address this problem so as to group data based on existing crimes which will help in the decision making process.\n",
    "- Defining a function to fetch top 10 crimes around a given neighborhood\n",
    "- Data frame containing crimes for each neighborhood\n",
    "- crime Count per neighborhood\n",
    "- One Hot Encoding to Analyze Each Neighborhood\n",
    "- Top 5 most frequent crimes across neighborhoods\n",
    "- Creation of a new dataframe which displays the top 10 crimes for each neighborhood\n",
    "- Clustering neighborhoods"
   ]
  },
  {
   "cell_type": "markdown",
   "metadata": {},
   "source": [
    "<u>Analysis</u>\n",
    "- In all, 4 clusters are formed\n",
    "- Each cluster is analyzed separately"
   ]
  },
  {
   "cell_type": "markdown",
   "metadata": {},
   "source": [
    "<h1>Results</h1>\n",
    "\n",
    "- <b>Cluster 1</b> with Musqueam faces the problem of Theft from Vehicle and Break and Enter Residential/Other. Police deployment should be made accordingly\n",
    "\n",
    "- <b>Cluster 2</b> has neighbourhood such as 'Hastings-Sunrise', 'Grandview-Woodland', 'Strathcona', 'Sunset', 'Marpole', 'Kensington-Cedar Cottage', 'Kitsilano', 'Victoria-Fraserview', 'Riley Park', 'Killarney', 'South Cambie' and these areas mostly face the problems of Theft from Vehicle, Mischief, and Break and Enter Residential/Other. Police should workaccordingly in this cluster.\n",
    "\n",
    "- Stanley Park is a separate <b>cluster 3</b> and faces the crimes of Vehicle and Bicycle theft as also Vehicle Collision or Pedestrian Struck\n",
    "\n",
    "- <b>Cluster 4</b> comprises 'West End', 'Central Business District', 'Mount Pleasant', 'Fairview', 'Renfrew-Collingwood'. They bear the issues like Theft from vehicle, other thefts, Michiefs, etc. This area thus needs continuous Police patrolling."
   ]
  },
  {
   "cell_type": "markdown",
   "metadata": {},
   "source": [
    "<h1>Conclusion</h1>\n",
    "We have explored the crime data to understand different types of crimes in all neighborhoods of Vancouver and later categorized them into different neighborhoods, which helped us group the neighborhoods into clusters and deploy police depending upon the frequency of crimes in that particular cluster."
   ]
  },
  {
   "cell_type": "code",
   "execution_count": null,
   "metadata": {},
   "outputs": [],
   "source": []
  }
 ],
 "metadata": {
  "kernelspec": {
   "display_name": "Python 3",
   "language": "python",
   "name": "python3"
  },
  "language_info": {
   "codemirror_mode": {
    "name": "ipython",
    "version": 3
   },
   "file_extension": ".py",
   "mimetype": "text/x-python",
   "name": "python",
   "nbconvert_exporter": "python",
   "pygments_lexer": "ipython3",
   "version": "3.7.6"
  }
 },
 "nbformat": 4,
 "nbformat_minor": 4
}
